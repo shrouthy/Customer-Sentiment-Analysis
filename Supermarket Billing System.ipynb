{
 "cells": [
  {
   "cell_type": "code",
   "execution_count": 2,
   "id": "44edce02-9970-428e-bc0d-c93223cb661b",
   "metadata": {},
   "outputs": [
    {
     "name": "stdout",
     "output_type": "stream",
     "text": [
      "--------------------------------------------------\n",
      "Welcome to Supermarket Billing System\n",
      "--------------------------------------------------\n"
     ]
    },
    {
     "name": "stdin",
     "output_type": "stream",
     "text": [
      "Enter your name:  Karthik\n",
      "Enter your phone number:  7892570607\n"
     ]
    },
    {
     "name": "stdout",
     "output_type": "stream",
     "text": [
      "--------------------------------------------------\n",
      "Items in stock:\n",
      "--------------------------------------------------\n",
      "Milk : 30.0\n",
      "Banana : 20.0\n",
      "Chocolate : 35.0\n",
      "Flour : 27.0\n",
      "Rice : 50.0\n",
      "Sugar : 25.0\n",
      "Paneer : 80.0\n",
      "Yogurt : 20.0\n",
      "Chips : 10.0\n",
      "Tea : 50.0\n",
      "Coffee : 70.0\n",
      "Juices : 20.0\n",
      "Apple : 50.0\n",
      "Cooking oil : 60.0\n",
      "Ghee : 250.0\n",
      "Grapes : 30.0\n",
      "Tomatoes : 40.0\n",
      "Biscuits : 10.0\n",
      "--------------------------------------------------\n"
     ]
    },
    {
     "name": "stdin",
     "output_type": "stream",
     "text": [
      "Enter the product name:  milk\n",
      "Enter the quantity:  2\n",
      "Add another item? (yes/no):  yes\n",
      "Enter the product name:  chocolate\n",
      "Enter the quantity:  4\n",
      "Add another item? (yes/no):  yes\n",
      "Enter the product name:  rice\n",
      "Enter the quantity:  1.5\n",
      "Add another item? (yes/no):  yes\n",
      "Enter the product name:  apple\n",
      "Enter the quantity:  3\n",
      "Add another item? (yes/no):  yes\n",
      "Enter the product name:  chips\n",
      "Enter the quantity:  2\n",
      "Add another item? (yes/no):  no\n"
     ]
    },
    {
     "name": "stdout",
     "output_type": "stream",
     "text": [
      "\n",
      "-----------------------BILL-----------------------\n",
      "Name: Karthik\n",
      "Phone number: 7892570607\n",
      "--------------------------------------------------\n",
      "Product        Qty       Price     Total     \n",
      "--------------------------------------------------\n",
      "Milk           2.0       30.0      60.0      \n",
      "Chocolate      4.0       35.0      140.0     \n",
      "Rice           1.5       50.0      75.0      \n",
      "Apple          3.0       50.0      150.0     \n",
      "Chips          2.0       10.0      20.0      \n",
      "--------------------------------------------------\n",
      "Thank you for shopping with us!\n"
     ]
    },
    {
     "name": "stdin",
     "output_type": "stream",
     "text": [
      "Do you want to process another bill? (yes/no):  no\n"
     ]
    }
   ],
   "source": [
    "#Supermarket Billing System\n",
    "\n",
    "print(\"-\"*50)\n",
    "print(\"Welcome to Supermarket Billing System\")\n",
    "print(\"-\"*50)\n",
    "\n",
    "#Ask for customer details\n",
    "Name = input(\"Enter your name: \")\n",
    "Phone = input(\"Enter your phone number: \")\n",
    "\n",
    "#dictionary of products and their price\n",
    "products = {\"Milk\": 30.0,\"Banana\": 20.0,\"Chocolate\": 35.0,\n",
    "            \"Flour\": 27.0, \"Rice\": 50.0,\"Sugar\": 25.0,\n",
    "            \"Paneer\": 80.0,\"Yogurt\": 20.0, \"Chips\": 10.0,\n",
    "            \"Tea\": 50.0,\"Coffee\": 70.0,\"Juices\": 20.0,\n",
    "            \"Apple\": 50.0,\"Cooking oil\":60.0,\"Ghee\": 250.0,\n",
    "            \"Grapes\": 30.0,\"Tomatoes\": 40.0,\"Biscuits\": 10.0}\n",
    "\n",
    "print(\"-\"*50)\n",
    "print(\"Items in stock:\")\n",
    "print(\"-\"*50)\n",
    "\n",
    "for i,j in products.items(): #to show all the items in products\n",
    "    print(i,\":\",j) #tuple unpacking\n",
    "print(\"-\"*50)\n",
    "\n",
    "while True:\n",
    "    amount = 0\n",
    "    total = 0\n",
    "    purchased_items = [] #List to store purchased item's details\n",
    "\n",
    "    while True:\n",
    "        p_item = input(\"Enter the product name: \").title()\n",
    "        if p_item not in products:\n",
    "            print(\"Product not found. Please Enter a valid item.\")\n",
    "            continue\n",
    "        quantity = float(input(\"Enter the quantity: \"))\n",
    "        price = products[p_item]\n",
    "        item_total = price * quantity\n",
    "        purchased_items.append([p_item, quantity, price, item_total]) #Add item details to bill\n",
    "        amount += item_total\n",
    "\n",
    "        repeat = input(\"Add another item? (yes/no): \")\n",
    "        if repeat == \"no\":\n",
    "            break\n",
    "\n",
    "    #calculate discount based on total amount\n",
    "    if amount > 5000:\n",
    "            discount = 0.25\n",
    "            percent = \"25% discount applied\"\n",
    "    elif amount > 3500:\n",
    "        discount = 0.20\n",
    "        percent = \"20% discount applied\"\n",
    "    elif amount > 1500:\n",
    "        discount = 0.15\n",
    "        percent = \"15% discount applied\"\n",
    "    elif amount > 500:\n",
    "        discount = 0.10\n",
    "        percent = \"10% discount applied\"\n",
    "    else:\n",
    "        discount = 0.05\n",
    "        percent = \"5% discount applied\"\n",
    "\n",
    "    total = amount - (amount*discount)\n",
    "    \n",
    "    #Formatting the receipt\n",
    "    print(\"\\n\" + \"-\"*23 + \"BILL\" + \"-\"*23)\n",
    "    print(\"Name:\",Name)\n",
    "    print(\"Phone number:\",Phone)\n",
    "    print(\"-\"*50)\n",
    "    print(f\"{'Product':<15}{'Qty':<10}{'Price':<10}{'Total':<10}\") #Receipt header with spacing\n",
    "    print(\"-\"*50)\n",
    "    for item in purchased_items:\n",
    "        print(f\"{item[0]:<15}{item[1]:<10}{item[2]:<10}{item[3]:<10}\") #Itemized bill\n",
    "    print(\"-\"*50)\n",
    "    print(\"Thank you for shopping with us!\")\n",
    "\n",
    "    again = input(\"Do you want to process another bill? (yes/no): \").lower()\n",
    "    if again == \"no\":\n",
    "        break"
   ]
  }
 ],
 "metadata": {
  "kernelspec": {
   "display_name": "Python 3 (ipykernel)",
   "language": "python",
   "name": "python3"
  },
  "language_info": {
   "codemirror_mode": {
    "name": "ipython",
    "version": 3
   },
   "file_extension": ".py",
   "mimetype": "text/x-python",
   "name": "python",
   "nbconvert_exporter": "python",
   "pygments_lexer": "ipython3",
   "version": "3.12.4"
  }
 },
 "nbformat": 4,
 "nbformat_minor": 5
}
